{
 "cells": [
  {
   "cell_type": "code",
   "execution_count": null,
   "id": "d88e2310-682a-42df-819b-62f27b8e5e30",
   "metadata": {},
   "outputs": [],
   "source": [
    "library(rEDM)\n",
    "\n",
    "#loading\n",
    "dailyC <- read.csv(\"ClinicalDetectionDaily.csv\")\n",
    "#check cols name\n",
    "str(dailyC)"
   ]
  },
  {
   "cell_type": "code",
   "execution_count": null,
   "id": "496c4dda-78d3-45cd-b615-a1de8ea1d22c",
   "metadata": {},
   "outputs": [],
   "source": [
    "#showing original graph\n",
    "\n",
    "# Create a new data frame with time and colonized count\n",
    "df <- data.frame(\n",
    "  time = dailyC $Time,\n",
    "  dailyCount = dailyC $DailyCount\n",
    ")\n",
    "\n",
    "# Plot the colonized counts over time\n",
    "plot(df$time, df$dailyCount, type = \"l\",\n",
    "     xlab = \"Time\", ylab = \"Daily Detected Patients\",\n",
    "     lwd = 2)\n"
   ]
  },
  {
   "cell_type": "code",
   "execution_count": null,
   "id": "6b495fc7-68bc-4331-84e9-3ceb29f04726",
   "metadata": {},
   "outputs": [],
   "source": [
    "#Finding E by Optimal embedding dimension \n",
    "#only need minimum dimension\n",
    "\n",
    "E.opt <- EmbedDimension(dataFrame = dailyC,\n",
    "                       lib = \"1 2500\", \n",
    "                       pred = \"2501 5414\",\n",
    "                       columns = \"DailyCount\",\n",
    "                       target = \"DailyCount\")\n",
    "\n",
    "#get 10"
   ]
  },
  {
   "cell_type": "code",
   "execution_count": null,
   "id": "724c9360-d292-48c5-ac45-3ab645057d7f",
   "metadata": {},
   "outputs": [],
   "source": [
    "#Predict Interval(replace the E with detected E at peak)\n",
    "#run Simplex\n",
    "\n",
    "simplex_out <- Simplex(dataFrame = dailyC,\n",
    "                       lib = \"1 2500\", # training range\n",
    "                       pred = \"2501 5414\",# prediction range\n",
    "                       columns = \"DailyCount\",\n",
    "                       target = \"DailyCount\",\n",
    "                       E = 10)\n",
    "simplex_out[c(1:2, 300:301), ] \n",
    "\n",
    "\n",
    "# Plot actual vs predicted colonized counts\n",
    "plot(dailyC$Time, dailyC$DailyCount, type = \"l\", lwd = 2,\n",
    "     xlab = \"Time\", ylab = \"Daily Detected Patients\")\n",
    "\n",
    "lines(simplex_out$Time, simplex_out$Predictions, col = \"red\", lwd = 2)\n",
    "\n",
    "legend(\"topleft\", legend = c(\"Observed\", \"Predicted (t + 1)\"),\n",
    "       fill = c(\"black\", \"red\"), bty = \"n\", cex = 1.3)\n",
    "\n",
    "# type “l” means line, lwd =2 means line width\n",
    "# observed in black, predicted in red\n",
    "#bty means no box around legend, cex means font size"
   ]
  },
  {
   "cell_type": "code",
   "execution_count": null,
   "id": "9041fbbd-2fa6-4f27-a689-c1d80b472589",
   "metadata": {},
   "outputs": [],
   "source": [
    "#Evaluate performance\n",
    "ComputeError(simplex_out$Observations, simplex_out$Predictions)"
   ]
  },
  {
   "cell_type": "code",
   "execution_count": null,
   "id": "26e2f43a-e35a-44de-9410-1d027d6eb3c6",
   "metadata": {},
   "outputs": [],
   "source": [
    "# prediction Decay(for short term is good, long term has decay in accuracy)\n",
    "# Tp increases, p decreases as prediction decay, p drops to 0, then chaotic\n",
    "# normal in nonlinear system\n",
    "rho_Tp<- PredictInterval(dataFrame = dailyC, \n",
    "                       lib = \"1 2500\", \n",
    "                       pred = \"2501 5414\",\n",
    "                         columns = \"DailyCount\",\n",
    "                         target = \"DailyCount\",\n",
    "E = 1) "
   ]
  },
  {
   "cell_type": "code",
   "execution_count": null,
   "id": "3405fc1a-2c6d-45e1-b8d4-5a261b42de13",
   "metadata": {},
   "outputs": [],
   "source": [
    "#Test for nonlinearity(Smap)\n",
    "# If ρ increases as θ increases, the system likely has nonlinear behavior\n",
    "# If ρ is highest at θ = 0, it's likely a linear or stochastic process\n",
    "\n",
    "rho_theta  <- PredictNonlinear(dataFrame = dailyC,\n",
    "                       lib = \"1 2500\", \n",
    "                       pred = \"2501 5414\",\n",
    "                         columns = \"DailyCount\",\n",
    "                         target = \"DailyCount\",\n",
    "                              E = 10)\n",
    "\n",
    "#Likely a linear or stochastic process"
   ]
  },
  {
   "cell_type": "code",
   "execution_count": null,
   "id": "069408d7-fe3a-4911-946d-172bae45d740",
   "metadata": {},
   "outputs": [],
   "source": [
    "#For Smap:\n",
    "\n",
    "Smap  <- SMap(dataFrame = dailyC,\n",
    "                       lib = \"1 2500\", \n",
    "                       pred = \"2501 5414\",\n",
    "                         columns = \"DailyCount\",\n",
    "                         target = \"DailyCount\",\n",
    "                    E = 10,\n",
    "                    theta = 3)\n",
    "\n",
    "head(cbind(Smap$predictions, Smap$coefficients), 3)\n",
    "\n",
    "tail(cbind(Smap$predictions, Smap$coefficients), 3) "
   ]
  }
 ],
 "metadata": {
  "kernelspec": {
   "display_name": "R",
   "language": "R",
   "name": "ir"
  },
  "language_info": {
   "codemirror_mode": "r",
   "file_extension": ".r",
   "mimetype": "text/x-r-source",
   "name": "R",
   "pygments_lexer": "r",
   "version": "4.5.0"
  }
 },
 "nbformat": 4,
 "nbformat_minor": 5
}
