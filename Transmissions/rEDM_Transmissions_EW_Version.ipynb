{
 "cells": [
  {
   "cell_type": "code",
   "execution_count": null,
   "id": "88da8dda-5ba7-41fa-af24-564511ffa170",
   "metadata": {},
   "outputs": [],
   "source": [
    "library(rEDM)\n",
    "\n",
    "#loading\n",
    "dailyC <- read.csv(\"TransmissionDaily.csv\")\n"
   ]
  },
  {
   "cell_type": "code",
   "execution_count": null,
   "id": "d524556a-e3ed-419e-a268-cd74c84544fc",
   "metadata": {},
   "outputs": [],
   "source": [
    "#check cols name\n",
    "str(dailyC)\n"
   ]
  },
  {
   "cell_type": "code",
   "execution_count": null,
   "id": "745c253c-8ce9-4c44-8a22-e2869de10454",
   "metadata": {},
   "outputs": [],
   "source": [
    "#showing original graph\n",
    "\n",
    "# Create a new data frame with time and colonized count\n",
    "df <- data.frame(\n",
    "  time = dailyC $Time,\n",
    "  dailyCount = dailyC $DailyCount\n",
    ")\n",
    "\n",
    "# Plot the colonized counts over time\n",
    "plot(df$time, df$dailyCount, type = \"l\",\n",
    "     xlab = \"Time\", ylab = \"Daily Detected Patients\",\n",
    "     lwd = 2)\n"
   ]
  },
  {
   "cell_type": "code",
   "execution_count": null,
   "id": "a0de87fb-23f2-4740-ba1a-a919a6bc9055",
   "metadata": {},
   "outputs": [],
   "source": [
    "#Finding E by Optimal embedding dimension \n",
    "#only need minimum dimension\n",
    "\n",
    "E.opt <- EmbedDimension(dataFrame = dailyC,\n",
    "                       lib = \"1 170\", \n",
    "                       pred = \"171 355\",\n",
    "                       columns = \"DailyCount\",\n",
    "                       target = \"DailyCount\")\n"
   ]
  },
  {
   "cell_type": "code",
   "execution_count": null,
   "id": "44ba7471-009f-474d-83d4-ea8f04f996d8",
   "metadata": {},
   "outputs": [],
   "source": [
    "#Predict Interval(replace the E with detected E at peak)\n",
    "#run Simplex\n",
    "\n",
    "simplex_out <- Simplex(dataFrame = dailyC,\n",
    "                       lib = \"1 170\", # training range\n",
    "                       pred = \"171 355\",# prediction range\n",
    "                       columns = \"DailyCount\",\n",
    "                       target = \"DailyCount\",\n",
    "                       E = 4)\n",
    "simplex_out[c(1:2, 300:301), ] \n"
   ]
  },
  {
   "cell_type": "code",
   "execution_count": null,
   "id": "2855cbef-a408-4bc6-be32-b1ca77fce499",
   "metadata": {},
   "outputs": [],
   "source": [
    "# Plot actual vs predicted colonized counts\n",
    "plot(dailyC$Time, dailyC$DailyCount, type = \"l\", lwd = 2,\n",
    "     xlab = \"Time\", ylab = \"Daily Detected Patients\")\n",
    "\n",
    "lines(simplex_out$Time, simplex_out$Predictions, col = \"red\", lwd = 2)\n",
    "\n",
    "legend(\"topleft\", legend = c(\"Observed\", \"Predicted (t + 1)\"),\n",
    "       fill = c(\"black\", \"red\"), bty = \"n\", cex = 1.3)\n",
    "\n",
    "# type “l” means line, lwd =2 means line width\n",
    "# observed in black, predicted in red\n",
    "#bty means no box around legend, cex means font size\n"
   ]
  },
  {
   "cell_type": "code",
   "execution_count": null,
   "id": "d3d50386-edd8-46c1-9b50-6638cebc15e5",
   "metadata": {},
   "outputs": [],
   "source": [
    "#Evaluate performance\n",
    "ComputeError(simplex_out$Observations, simplex_out$Predictions)"
   ]
  },
  {
   "cell_type": "code",
   "execution_count": null,
   "id": "df2ccf4f-389a-4975-9e56-827f2a461fca",
   "metadata": {},
   "outputs": [],
   "source": [
    "# prediction Decay(for short term is good, long term has decay in accuracy)\n",
    "# Tp increases, p decreases as prediction decay, p drops to 0, then chaotic\n",
    "# normal in nonlinear system\n",
    "rho_Tp<- PredictInterval(dataFrame = dailyC, \n",
    "                       lib = \"1 170\", \n",
    "                       pred = \"171 355\",\n",
    "                         columns = \"DailyCount\",\n",
    "                         target = \"DailyCount\",\n",
    "E = 4) "
   ]
  },
  {
   "cell_type": "code",
   "execution_count": null,
   "id": "d3cef0f8-0dd4-4f3a-a0b2-b0a7aa07b078",
   "metadata": {},
   "outputs": [],
   "source": [
    "#Test for nonlinearity(Smap)\n",
    "# If ρ increases as θ increases, the system likely has nonlinear behavior\n",
    "# If ρ is highest at θ = 0, it's likely a linear or stochastic process\n",
    "\n",
    "rho_theta  <- PredictNonlinear(dataFrame = dailyC,\n",
    "                       lib = \"1 170\", \n",
    "                       pred = \"171 355\",\n",
    "                         columns = \"DailyCount\",\n",
    "                         target = \"DailyCount\",\n",
    "                              E = 4)\n",
    "\n",
    "#Likely a linear or stochastic process\n"
   ]
  },
  {
   "cell_type": "code",
   "execution_count": null,
   "id": "9b12ed6b-140a-4e9c-8150-7871a433bc88",
   "metadata": {},
   "outputs": [],
   "source": [
    "#For Smap:\n",
    "\n",
    "Smap  <- SMap(dataFrame = dailyC,\n",
    "                       lib = \"1 170\", \n",
    "                       pred = \"171 355\",\n",
    "                         columns = \"DailyCount\",\n",
    "                         target = \"DailyCount\",\n",
    "                    E = 4,\n",
    "                    theta = 3)\n",
    "\n",
    "head(cbind(Smap$predictions, Smap$coefficients), 3)\n",
    "\n",
    "tail(cbind(Smap$predictions, Smap$coefficients), 3) \n"
   ]
  },
  {
   "cell_type": "code",
   "execution_count": null,
   "id": "55a87c91-c201-4ef0-8646-b89d4f966af0",
   "metadata": {},
   "outputs": [],
   "source": []
  }
 ],
 "metadata": {
  "kernelspec": {
   "display_name": "Python 3 (ipykernel)",
   "language": "python",
   "name": "python3"
  },
  "language_info": {
   "codemirror_mode": {
    "name": "ipython",
    "version": 3
   },
   "file_extension": ".py",
   "mimetype": "text/x-python",
   "name": "python",
   "nbconvert_exporter": "python",
   "pygments_lexer": "ipython3",
   "version": "3.12.6"
  }
 },
 "nbformat": 4,
 "nbformat_minor": 5
}
